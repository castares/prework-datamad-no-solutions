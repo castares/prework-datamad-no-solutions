{
 "cells": [
  {
   "cell_type": "markdown",
   "metadata": {},
   "source": [
    "# Duel of sorcerers\n",
    "## Intro\n",
    "You are witnessing an epic battle between two powerful sorcerers: Gandalf and Saruman. Each sorcerer has 10 spells of variable power in their mind and they are going to throw them one after the other. The winner of the duel will be the one who wins more of those clashes between spells. Spells are represented as a list of 10 integers whose value equals the power of the spell.\n",
    "```\n",
    "gandalf = [10, 11, 13, 30, 22, 11, 10, 33, 22, 22]\n",
    "saruman = [23, 66, 12, 43, 12, 10, 44, 23, 12, 17]\n",
    "```\n",
    "For example:\n",
    "1. The first clash is won by Saruman: 10 against 23, wins 23\n",
    "2. The second clash wins Saruman: 11 against 66, wins 66\n",
    "3. etc.\n",
    "\n",
    "\n",
    "You will create two variables, one for each sorcerer, where the sum of clashes won will be stored. Depending on which variable is greater at the end of the duel, you will show one of the following three results on the screen:\n",
    "* Gandalf wins\n",
    "* Saruman wins\n",
    "* Tie\n",
    "\n",
    "<img src=\"images/content_lightning_bolt_big.jpg\" width=\"400\">\n",
    "\n",
    "## LINKS: \n",
    "* zip: https://www.programiz.com/python-programming/methods/built-in/zip"
   ]
  },
  {
   "cell_type": "markdown",
   "metadata": {},
   "source": [
    "## Solution"
   ]
  },
  {
   "cell_type": "code",
   "execution_count": 17,
   "metadata": {},
   "outputs": [
    {
     "name": "stdout",
     "output_type": "stream",
     "text": [
      "{(13, 12), (11, 10), (33, 23), (22, 12), (11, 66), (22, 17), (10, 44), (30, 43), (10, 23)}\n"
     ]
    }
   ],
   "source": [
    "# Assign spell power lists to variables\n",
    "gandalf = [10, 11, 13, 30, 22, 11, 10, 33, 22, 22]\n",
    "saruman = [23, 66, 12, 43, 12, 10, 44, 23, 12, 17]\n",
    "a = zip(gandalf, saruman)\n",
    "b = list(a)\n",
    "c = set(b)\n",
    "print(c)"
   ]
  },
  {
   "cell_type": "code",
   "execution_count": 3,
   "metadata": {},
   "outputs": [],
   "source": [
    "# Assign 0 to each variable that stores the victories\n",
    "gandalf_victories = 0\n",
    "saruman_victories = 0"
   ]
  },
  {
   "cell_type": "code",
   "execution_count": 29,
   "metadata": {},
   "outputs": [
    {
     "name": "stdout",
     "output_type": "stream",
     "text": [
      "Gandalf value is 10. Saruman value is 23. \n",
      "Saruman wins\n",
      "Gandalf value is 11. Saruman value is 66. \n",
      "Saruman wins\n",
      "Gandalf value is 13. Saruman value is 12. \n",
      "Gandalf wins\n",
      "Gandalf value is 30. Saruman value is 43. \n",
      "Saruman wins\n",
      "Gandalf value is 22. Saruman value is 12. \n",
      "Gandalf wins\n",
      "Gandalf value is 11. Saruman value is 10. \n",
      "Gandalf wins\n",
      "Gandalf value is 10. Saruman value is 44. \n",
      "Saruman wins\n",
      "Gandalf value is 33. Saruman value is 23. \n",
      "Gandalf wins\n",
      "Gandalf value is 22. Saruman value is 12. \n",
      "Gandalf wins\n",
      "Gandalf value is 22. Saruman value is 17. \n",
      "Gandalf wins\n",
      "Total Gandalf victories are 6. \n",
      "Total Saruman victories are 4\n"
     ]
    }
   ],
   "source": [
    "# Execution of spell clashes\n",
    "gandalf = [10, 11, 13, 30, 22, 11, 10, 33, 22, 22]\n",
    "saruman = [23, 66, 12, 43, 12, 10, 44, 23, 12, 17]\n",
    "gandalf_victories = 0\n",
    "saruman_victories = 0\n",
    "for gandalf_spell, saruman_spell in zip(gandalf, saruman):\n",
    "    if gandalf_spell > saruman_spell:\n",
    "        gandalf_victories += 1\n",
    "        print(f'Gandalf value is {gandalf_spell}. Saruman value is {saruman_spell}. \\nGandalf wins')\n",
    "    elif gandalf_spell < saruman_spell:\n",
    "        saruman_victories += 1\n",
    "        print(f'Gandalf value is {gandalf_spell}. Saruman value is {saruman_spell}. \\nSaruman wins')\n",
    "    else:\n",
    "        print(f\"Gandalf value is {gandalf_spell}. Saruman value is {saruman_spell}. \\nIt's a tie!\")\n",
    "print(f'Total Gandalf victories are {gandalf_victories}. \\nTotal Saruman victories are {saruman_victories}')\n"
   ]
  },
  {
   "cell_type": "markdown",
   "metadata": {},
   "source": [
    "**Expected output**:\n",
    "```\n",
    "6\n",
    "4\n",
    "```"
   ]
  },
  {
   "cell_type": "code",
   "execution_count": 27,
   "metadata": {},
   "outputs": [
    {
     "name": "stdout",
     "output_type": "stream",
     "text": [
      "Gandalf Wins!\n"
     ]
    }
   ],
   "source": [
    "# We check who has won, do not forget the possibility of a draw.\n",
    "# Print the result based on the winner.\n",
    "if gandalf_victories > saruman_victories:\n",
    "    print(\"Gandalf Wins!\")\n",
    "elif gandalf_victories < saruman_victories:\n",
    "    print(\"Saruman Wins!\")\n",
    "else:\n",
    "    print(\"It's a tie!\")"
   ]
  },
  {
   "cell_type": "markdown",
   "metadata": {},
   "source": [
    "**Expected output**:\n",
    "```\n",
    "Gandalf wins\n",
    "```"
   ]
  },
  {
   "cell_type": "markdown",
   "metadata": {},
   "source": [
    "## Goals\n",
    "\n",
    "1. Treatment of lists\n",
    "2. Use of **for loop**\n",
    "3. Use of conditional **if-elif-else**\n",
    "4. Use of the functions **range(), len()**\n",
    "5. print()\n",
    "6. zip()"
   ]
  },
  {
   "cell_type": "markdown",
   "metadata": {},
   "source": [
    "## Bonus\n",
    "\n",
    "1. Spells now have a name and there is a dictionary that relates that name to a power.\n",
    "2. A sorcerer wins if he succeeds in winning 3 spell clashes in a row.\n",
    "3. Average of each of the spell lists.\n",
    "4. Standard deviation of each of the spell lists.\n",
    "\n",
    "```\n",
    "POWER = {\n",
    "    'Fireball': 50, \n",
    "    'Lightning bolt': 40, \n",
    "    'Magic arrow': 10, \n",
    "    'Black Tentacles': 25, \n",
    "    'Contagion': 45\n",
    "}\n",
    "\n",
    "gandalf = ['Fireball', 'Lightning bolt', 'Lightning bolt', 'Magic arrow', 'Fireball', \n",
    "           'Magic arrow', 'Lightning bolt', 'Fireball', 'Fireball', 'Fireball']\n",
    "saruman = ['Contagion', 'Contagion', 'Black Tentacles', 'Fireball', 'Black Tentacles', \n",
    "           'Lightning bolt', 'Magic arrow', 'Contagion', 'Magic arrow', 'Magic arrow']\n",
    "```\n",
    "\n",
    "Good luck!"
   ]
  },
  {
   "cell_type": "code",
   "execution_count": 50,
   "metadata": {},
   "outputs": [],
   "source": [
    "# 1. Spells now have a name and there is a dictionary that relates that name to a power.\n",
    "# variables\n",
    "\n",
    "POWER = {\n",
    "    'Fireball': 50, \n",
    "    'Lightning bolt': 40, \n",
    "    'Magic arrow': 10, \n",
    "    'Black Tentacles': 25, \n",
    "    'Contagion': 45\n",
    "}\n",
    "\n",
    "gandalf = ['Fireball', 'Lightning bolt', 'Lightning bolt', 'Magic arrow', 'Fireball', \n",
    "           'Magic arrow', 'Lightning bolt', 'Fireball', 'Magic arrow', 'Fireball']\n",
    "saruman = ['Contagion', 'Contagion', 'Black Tentacles', 'Fireball', 'Black Tentacles', \n",
    "           'Lightning bolt', 'Magic arrow', 'Contagion', 'Magic arrow', 'Magic arrow']"
   ]
  },
  {
   "cell_type": "code",
   "execution_count": 49,
   "metadata": {
    "scrolled": true
   },
   "outputs": [
    {
     "name": "stdout",
     "output_type": "stream",
     "text": [
      "[50, 40, 40, 10, 50, 10, 40, 50, 10, 50],\n",
      "[45, 45, 25, 50, 25, 40, 10, 45, 10, 10]\n"
     ]
    }
   ],
   "source": [
    "# Assign spell power lists to variables\n",
    "z = []\n",
    "f = []\n",
    "for x in gandalf:\n",
    "    y = POWER[x]\n",
    "    z.append(y)\n",
    "for d in saruman:\n",
    "    e = POWER[d]\n",
    "    f.append(e)\n",
    "print(f'{z},\\n{f}')"
   ]
  },
  {
   "cell_type": "code",
   "execution_count": 60,
   "metadata": {},
   "outputs": [
    {
     "name": "stdout",
     "output_type": "stream",
     "text": [
      "[50, 40, 40, 10, 50, 10, 40, 50, 10, 50]\n",
      "[45, 45, 25, 50, 25, 40, 10, 45, 10, 10]\n"
     ]
    }
   ],
   "source": [
    "gandalf_values = []\n",
    "saruman_values = []\n",
    "for gandalf_power, saruman_power in zip(gandalf, saruman):\n",
    "    gandalf_value = POWER[gandalf_power]\n",
    "    saruman_value = POWER[saruman_power]\n",
    "    gandalf_values.append(gandalf_value)\n",
    "    saruman_values.append(saruman_value)\n",
    "print(f'{gandalf_values}\\n{saruman_values}')"
   ]
  },
  {
   "cell_type": "markdown",
   "metadata": {},
   "source": [
    "**Expected output**:\n",
    "```\n",
    "([50, 40, 40, 10, 50, 10, 40, 50, 10, 50],\n",
    " [45, 45, 25, 50, 25, 40, 10, 45, 10, 10])\n",
    " ```"
   ]
  },
  {
   "cell_type": "code",
   "execution_count": 59,
   "metadata": {},
   "outputs": [
    {
     "name": "stdout",
     "output_type": "stream",
     "text": [
      "Gandalf value is 50. Saruman value is 45. \n",
      "Gandalf wins\n",
      "Total Gandalf victories are 1. \n",
      "Total Saruman victories are 0\n",
      "Gandalf value is 40. Saruman value is 45. \n",
      "Saruman wins\n",
      "Total Gandalf victories are 1. \n",
      "Total Saruman victories are 1\n",
      "Gandalf value is 40. Saruman value is 25. \n",
      "Gandalf wins\n",
      "Total Gandalf victories are 2. \n",
      "Total Saruman victories are 1\n",
      "Gandalf value is 10. Saruman value is 50. \n",
      "Saruman wins\n",
      "Total Gandalf victories are 2. \n",
      "Total Saruman victories are 2\n",
      "Gandalf value is 50. Saruman value is 25. \n",
      "Gandalf wins\n",
      "Gandalf wins the Game!\n"
     ]
    }
   ],
   "source": [
    "# 2. A sorcerer wins if he succeeds in winning 3 spell clashes in a row.\n",
    "gandalf_victories = 0\n",
    "saruman_victories = 0\n",
    "for gandalf_power, saruman_power in zip(gandalf, saruman):\n",
    "    gandalf_value = POWER[gandalf_power]\n",
    "    saruman_value = POWER[saruman_power]\n",
    "    if gandalf_value > saruman_value:\n",
    "        print(f'Gandalf value is {gandalf_value}. Saruman value is {saruman_value}. \\nGandalf wins')\n",
    "        gandalf_victories += 1\n",
    "        if gandalf_victories >= 3:\n",
    "            print(\"Gandalf wins the Game!\")\n",
    "            break\n",
    "    elif gandalf_value < saruman_value:\n",
    "        print(f'Gandalf value is {gandalf_value}. Saruman value is {saruman_value}. \\nSaruman wins')\n",
    "        saruman_victories += 1\n",
    "        if saruman_victories >= 3:\n",
    "            print(\"Saruman wins the game!\")\n",
    "            break\n",
    "    else:\n",
    "        print(f\"Gandalf value is {gandalf_value}. Saruman value is {saruman_value}. \\nIt's a tie!\")\n",
    "\n",
    "        \n",
    "    print(f'Total Gandalf victories are {gandalf_victories}. \\nTotal Saruman victories are {saruman_victories}')\n",
    "\n",
    "    \n",
    "\n",
    "# Execution of spell clashes\n",
    "\n",
    "# check clashes\n",
    "\n",
    "# check for 3 wins in a row\n",
    "\n",
    "# check the winner\n",
    "\n",
    "# count sum of clashes\n"
   ]
  },
  {
   "cell_type": "markdown",
   "metadata": {},
   "source": [
    "**Expected output**:\n",
    "```\n",
    "Gandalf wins\n",
    "```"
   ]
  },
  {
   "cell_type": "code",
   "execution_count": 64,
   "metadata": {},
   "outputs": [
    {
     "name": "stdout",
     "output_type": "stream",
     "text": [
      "35\n",
      "30.5\n"
     ]
    }
   ],
   "source": [
    "# 3. Average of each of the spell lists.\n",
    "import statistics as st\n",
    "gandalf_mean = st.mean(gandalf_values)\n",
    "saruman_mean = st.mean(saruman_values)\n",
    "print(f'{gandalf_mean}\\n{saruman_mean}')"
   ]
  },
  {
   "cell_type": "markdown",
   "metadata": {},
   "source": [
    "**Expected output**:\n",
    "```\n",
    "35.0\n",
    "30.5\n",
    "```"
   ]
  },
  {
   "cell_type": "code",
   "execution_count": 66,
   "metadata": {},
   "outputs": [
    {
     "name": "stdout",
     "output_type": "stream",
     "text": [
      "16.881943016134134\n",
      "15.56438241627338\n"
     ]
    }
   ],
   "source": [
    "# 4. Standard deviation of each of the spell lists.\n",
    "gandalf_pstdev = st.pstdev(gandalf_values)\n",
    "saruman_pstdev = st.pstdev(saruman_values)\n",
    "print(f'{gandalf_pstdev}\\n{saruman_pstdev}')"
   ]
  },
  {
   "cell_type": "markdown",
   "metadata": {},
   "source": [
    "**Expected output**:\n",
    "```\n",
    "16.881943016134134\n",
    "15.56438241627338\n",
    "```"
   ]
  }
 ],
 "metadata": {
  "kernelspec": {
   "display_name": "Python 3",
   "language": "python",
   "name": "python3"
  },
  "language_info": {
   "codemirror_mode": {
    "name": "ipython",
    "version": 3
   },
   "file_extension": ".py",
   "mimetype": "text/x-python",
   "name": "python",
   "nbconvert_exporter": "python",
   "pygments_lexer": "ipython3",
   "version": "3.7.3"
  }
 },
 "nbformat": 4,
 "nbformat_minor": 2
}
